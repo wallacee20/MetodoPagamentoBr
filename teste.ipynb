{
 "cells": [
  {
   "cell_type": "code",
   "execution_count": null,
   "metadata": {},
   "outputs": [
    {
     "data": {
      "text/html": [
       "<div>\n",
       "<style scoped>\n",
       "    .dataframe tbody tr th:only-of-type {\n",
       "        vertical-align: middle;\n",
       "    }\n",
       "\n",
       "    .dataframe tbody tr th {\n",
       "        vertical-align: top;\n",
       "    }\n",
       "\n",
       "    .dataframe thead th {\n",
       "        text-align: right;\n",
       "    }\n",
       "</style>\n",
       "<table border=\"1\" class=\"dataframe\">\n",
       "  <thead>\n",
       "    <tr style=\"text-align: right;\">\n",
       "      <th></th>\n",
       "      <th>transacoes</th>\n",
       "      <th>valor_total</th>\n",
       "    </tr>\n",
       "  </thead>\n",
       "  <tbody>\n",
       "    <tr>\n",
       "      <th>0</th>\n",
       "      <td>132999861</td>\n",
       "      <td>3343221244</td>\n",
       "    </tr>\n",
       "    <tr>\n",
       "      <th>1</th>\n",
       "      <td>20025029</td>\n",
       "      <td>25315508210</td>\n",
       "    </tr>\n",
       "    <tr>\n",
       "      <th>2</th>\n",
       "      <td>29692198</td>\n",
       "      <td>16031503027</td>\n",
       "    </tr>\n",
       "    <tr>\n",
       "      <th>3</th>\n",
       "      <td>41384896</td>\n",
       "      <td>39205204175</td>\n",
       "    </tr>\n",
       "    <tr>\n",
       "      <th>4</th>\n",
       "      <td>76072253</td>\n",
       "      <td>3827368792</td>\n",
       "    </tr>\n",
       "    <tr>\n",
       "      <th>...</th>\n",
       "      <td>...</td>\n",
       "      <td>...</td>\n",
       "    </tr>\n",
       "    <tr>\n",
       "      <th>96</th>\n",
       "      <td>46846368</td>\n",
       "      <td>7378527495</td>\n",
       "    </tr>\n",
       "    <tr>\n",
       "      <th>97</th>\n",
       "      <td>28619561</td>\n",
       "      <td>7043723427</td>\n",
       "    </tr>\n",
       "    <tr>\n",
       "      <th>98</th>\n",
       "      <td>172862720</td>\n",
       "      <td>19367028285</td>\n",
       "    </tr>\n",
       "    <tr>\n",
       "      <th>99</th>\n",
       "      <td>94256862</td>\n",
       "      <td>28527597634</td>\n",
       "    </tr>\n",
       "    <tr>\n",
       "      <th>100</th>\n",
       "      <td>95303834</td>\n",
       "      <td>45773196467</td>\n",
       "    </tr>\n",
       "  </tbody>\n",
       "</table>\n",
       "<p>101 rows × 2 columns</p>\n",
       "</div>"
      ],
      "text/plain": [
       "     transacoes  valor_total\n",
       "0     132999861   3343221244\n",
       "1      20025029  25315508210\n",
       "2      29692198  16031503027\n",
       "3      41384896  39205204175\n",
       "4      76072253   3827368792\n",
       "..          ...          ...\n",
       "96     46846368   7378527495\n",
       "97     28619561   7043723427\n",
       "98    172862720  19367028285\n",
       "99     94256862  28527597634\n",
       "100    95303834  45773196467\n",
       "\n",
       "[101 rows x 2 columns]"
      ]
     },
     "metadata": {},
     "output_type": "display_data"
    }
   ],
   "source": [
    "import pandas as pd\n",
    "import random\n",
    "\n",
    "dados_cartao_credito = [\n",
    "    {\"NumeroTransacoesCartaoCredito\": random.randint(1000000, 200000000), \"ValorTotalCartaoCredito\": random.randint(1000000000, 50000000000)}\n",
    "    for _ in range(101)\n",
    "]\n",
    "\n",
    "df_cartao_credito = pd.DataFrame(dados_cartao_credito)\n",
    "\n",
    "display(df_cartao_credito)"
   ]
  },
  {
   "cell_type": "code",
   "execution_count": 3,
   "metadata": {},
   "outputs": [],
   "source": [
    "copy_cartao_credito = df_cartao_credito.copy()"
   ]
  },
  {
   "cell_type": "code",
   "execution_count": 4,
   "metadata": {},
   "outputs": [
    {
     "data": {
      "text/html": [
       "<div>\n",
       "<style scoped>\n",
       "    .dataframe tbody tr th:only-of-type {\n",
       "        vertical-align: middle;\n",
       "    }\n",
       "\n",
       "    .dataframe tbody tr th {\n",
       "        vertical-align: top;\n",
       "    }\n",
       "\n",
       "    .dataframe thead th {\n",
       "        text-align: right;\n",
       "    }\n",
       "</style>\n",
       "<table border=\"1\" class=\"dataframe\">\n",
       "  <thead>\n",
       "    <tr style=\"text-align: right;\">\n",
       "      <th></th>\n",
       "      <th>transacoes</th>\n",
       "      <th>valor_total</th>\n",
       "    </tr>\n",
       "  </thead>\n",
       "  <tbody>\n",
       "    <tr>\n",
       "      <th>0</th>\n",
       "      <td>132999861.0</td>\n",
       "      <td>3.343221e+09</td>\n",
       "    </tr>\n",
       "    <tr>\n",
       "      <th>1</th>\n",
       "      <td>20025029.0</td>\n",
       "      <td>2.531551e+10</td>\n",
       "    </tr>\n",
       "    <tr>\n",
       "      <th>2</th>\n",
       "      <td>29692198.0</td>\n",
       "      <td>1.603150e+10</td>\n",
       "    </tr>\n",
       "    <tr>\n",
       "      <th>3</th>\n",
       "      <td>41384896.0</td>\n",
       "      <td>3.920520e+10</td>\n",
       "    </tr>\n",
       "    <tr>\n",
       "      <th>4</th>\n",
       "      <td>76072253.0</td>\n",
       "      <td>3.827369e+09</td>\n",
       "    </tr>\n",
       "    <tr>\n",
       "      <th>...</th>\n",
       "      <td>...</td>\n",
       "      <td>...</td>\n",
       "    </tr>\n",
       "    <tr>\n",
       "      <th>96</th>\n",
       "      <td>46846368.0</td>\n",
       "      <td>7.378527e+09</td>\n",
       "    </tr>\n",
       "    <tr>\n",
       "      <th>97</th>\n",
       "      <td>28619561.0</td>\n",
       "      <td>7.043723e+09</td>\n",
       "    </tr>\n",
       "    <tr>\n",
       "      <th>98</th>\n",
       "      <td>172862720.0</td>\n",
       "      <td>1.936703e+10</td>\n",
       "    </tr>\n",
       "    <tr>\n",
       "      <th>99</th>\n",
       "      <td>94256862.0</td>\n",
       "      <td>2.852760e+10</td>\n",
       "    </tr>\n",
       "    <tr>\n",
       "      <th>100</th>\n",
       "      <td>95303834.0</td>\n",
       "      <td>4.577320e+10</td>\n",
       "    </tr>\n",
       "  </tbody>\n",
       "</table>\n",
       "<p>101 rows × 2 columns</p>\n",
       "</div>"
      ],
      "text/plain": [
       "      transacoes   valor_total\n",
       "0    132999861.0  3.343221e+09\n",
       "1     20025029.0  2.531551e+10\n",
       "2     29692198.0  1.603150e+10\n",
       "3     41384896.0  3.920520e+10\n",
       "4     76072253.0  3.827369e+09\n",
       "..           ...           ...\n",
       "96    46846368.0  7.378527e+09\n",
       "97    28619561.0  7.043723e+09\n",
       "98   172862720.0  1.936703e+10\n",
       "99    94256862.0  2.852760e+10\n",
       "100   95303834.0  4.577320e+10\n",
       "\n",
       "[101 rows x 2 columns]"
      ]
     },
     "metadata": {},
     "output_type": "display_data"
    }
   ],
   "source": [
    "df_cartao_credito[\"transacoes\"] = copy_cartao_credito[\"transacoes\"].apply(lambda x: float(f\"{x:.2f}\"))\n",
    "df_cartao_credito[\"valor_total\"] = copy_cartao_credito[\"valor_total\"].apply(lambda x: float(f\"{x:.2f}\"))\n",
    "\n",
    "display(df_cartao_credito)\n"
   ]
  },
  {
   "cell_type": "code",
   "execution_count": 5,
   "metadata": {},
   "outputs": [
    {
     "name": "stdout",
     "output_type": "stream",
     "text": [
      "<class 'pandas.core.frame.DataFrame'>\n",
      "RangeIndex: 101 entries, 0 to 100\n",
      "Data columns (total 2 columns):\n",
      " #   Column       Non-Null Count  Dtype  \n",
      "---  ------       --------------  -----  \n",
      " 0   transacoes   101 non-null    float64\n",
      " 1   valor_total  101 non-null    float64\n",
      "dtypes: float64(2)\n",
      "memory usage: 1.7 KB\n"
     ]
    }
   ],
   "source": [
    "df_cartao_credito.info()\n"
   ]
  },
  {
   "cell_type": "code",
   "execution_count": 6,
   "metadata": {},
   "outputs": [],
   "source": [
    "copy_cartao_credito.to_csv(\"dadosCartao2.csv\", index=False, encoding=\"utf-8\")"
   ]
  },
  {
   "cell_type": "code",
   "execution_count": null,
   "metadata": {},
   "outputs": [],
   "source": [
    "df = pd.read_csv(r\"C:\\Users\\uniao\\OneDrive\\Área de Trabalho\\Cursos 2024\\Soulcode\\Projeto_Metodo_Pagamento\\metodo_pagamento.csv\")\n",
    "\n",
    "display(df)"
   ]
  },
  {
   "cell_type": "code",
   "execution_count": null,
   "metadata": {},
   "outputs": [],
   "source": [
    "df_unificado = pd.merge(df_backup, df_cartao, left_index=True, right_index=True, how='inner')\n",
    "\n",
    "display(df_unificado)"
   ]
  },
  {
   "cell_type": "code",
   "execution_count": null,
   "metadata": {},
   "outputs": [],
   "source": [
    "df_unificado.info()"
   ]
  },
  {
   "cell_type": "code",
   "execution_count": null,
   "metadata": {},
   "outputs": [],
   "source": [
    "df_unificado.astype({'transacoes': float, 'valor_total': float})"
   ]
  },
  {
   "cell_type": "code",
   "execution_count": null,
   "metadata": {},
   "outputs": [],
   "source": [
    "cop_df_unificado = df_unificado.copy()  "
   ]
  },
  {
   "cell_type": "code",
   "execution_count": null,
   "metadata": {},
   "outputs": [],
   "source": [
    "cop_df_unificado['transacoes'] = df_unificado['transacoes'].apply(lambda x: f\"{x:.2f}\")\n",
    "cop_df_unificado['valor_total'] = df_unificado['valor_total'].apply(lambda x: f\"{x:.2f}\")"
   ]
  }
 ],
 "metadata": {
  "language_info": {
   "name": "python"
  }
 },
 "nbformat": 4,
 "nbformat_minor": 2
}
