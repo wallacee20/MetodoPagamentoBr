{
 "cells": [
  {
   "cell_type": "code",
   "execution_count": 1,
   "metadata": {},
   "outputs": [
    {
     "data": {
      "text/html": [
       "<div>\n",
       "<style scoped>\n",
       "    .dataframe tbody tr th:only-of-type {\n",
       "        vertical-align: middle;\n",
       "    }\n",
       "\n",
       "    .dataframe tbody tr th {\n",
       "        vertical-align: top;\n",
       "    }\n",
       "\n",
       "    .dataframe thead th {\n",
       "        text-align: right;\n",
       "    }\n",
       "</style>\n",
       "<table border=\"1\" class=\"dataframe\">\n",
       "  <thead>\n",
       "    <tr style=\"text-align: right;\">\n",
       "      <th></th>\n",
       "      <th>NumeroTransacoesCartaoCredito</th>\n",
       "      <th>ValorTotalCartaoCredito</th>\n",
       "    </tr>\n",
       "  </thead>\n",
       "  <tbody>\n",
       "    <tr>\n",
       "      <th>0</th>\n",
       "      <td>108889702</td>\n",
       "      <td>45240604924</td>\n",
       "    </tr>\n",
       "    <tr>\n",
       "      <th>1</th>\n",
       "      <td>159982883</td>\n",
       "      <td>1788391587</td>\n",
       "    </tr>\n",
       "    <tr>\n",
       "      <th>2</th>\n",
       "      <td>147875334</td>\n",
       "      <td>31727844565</td>\n",
       "    </tr>\n",
       "    <tr>\n",
       "      <th>3</th>\n",
       "      <td>185810790</td>\n",
       "      <td>4251524739</td>\n",
       "    </tr>\n",
       "    <tr>\n",
       "      <th>4</th>\n",
       "      <td>163784772</td>\n",
       "      <td>47633090269</td>\n",
       "    </tr>\n",
       "    <tr>\n",
       "      <th>...</th>\n",
       "      <td>...</td>\n",
       "      <td>...</td>\n",
       "    </tr>\n",
       "    <tr>\n",
       "      <th>96</th>\n",
       "      <td>3397440</td>\n",
       "      <td>33851014378</td>\n",
       "    </tr>\n",
       "    <tr>\n",
       "      <th>97</th>\n",
       "      <td>49746934</td>\n",
       "      <td>9915718105</td>\n",
       "    </tr>\n",
       "    <tr>\n",
       "      <th>98</th>\n",
       "      <td>65116093</td>\n",
       "      <td>28893747635</td>\n",
       "    </tr>\n",
       "    <tr>\n",
       "      <th>99</th>\n",
       "      <td>57891527</td>\n",
       "      <td>33328529868</td>\n",
       "    </tr>\n",
       "    <tr>\n",
       "      <th>100</th>\n",
       "      <td>122173989</td>\n",
       "      <td>28114206377</td>\n",
       "    </tr>\n",
       "  </tbody>\n",
       "</table>\n",
       "<p>101 rows × 2 columns</p>\n",
       "</div>"
      ],
      "text/plain": [
       "     NumeroTransacoesCartaoCredito  ValorTotalCartaoCredito\n",
       "0                        108889702              45240604924\n",
       "1                        159982883               1788391587\n",
       "2                        147875334              31727844565\n",
       "3                        185810790               4251524739\n",
       "4                        163784772              47633090269\n",
       "..                             ...                      ...\n",
       "96                         3397440              33851014378\n",
       "97                        49746934               9915718105\n",
       "98                        65116093              28893747635\n",
       "99                        57891527              33328529868\n",
       "100                      122173989              28114206377\n",
       "\n",
       "[101 rows x 2 columns]"
      ]
     },
     "metadata": {},
     "output_type": "display_data"
    }
   ],
   "source": [
    "import pandas as pd\n",
    "import random\n",
    "\n",
    "dados_cartao_credito = [\n",
    "    {\"NumeroTransacoesCartaoCredito\": random.randint(1000000, 200000000), \"ValorTotalCartaoCredito\": random.randint(1000000000, 50000000000)}\n",
    "    for _ in range(101)\n",
    "]\n",
    "\n",
    "df_cartao_credito = pd.DataFrame(dados_cartao_credito)\n",
    "\n",
    "display(df_cartao_credito)"
   ]
  },
  {
   "cell_type": "code",
   "execution_count": 2,
   "metadata": {},
   "outputs": [],
   "source": [
    "copy_cartao_credito = df_cartao_credito.copy()"
   ]
  },
  {
   "cell_type": "code",
   "execution_count": 5,
   "metadata": {},
   "outputs": [
    {
     "data": {
      "text/html": [
       "<div>\n",
       "<style scoped>\n",
       "    .dataframe tbody tr th:only-of-type {\n",
       "        vertical-align: middle;\n",
       "    }\n",
       "\n",
       "    .dataframe tbody tr th {\n",
       "        vertical-align: top;\n",
       "    }\n",
       "\n",
       "    .dataframe thead th {\n",
       "        text-align: right;\n",
       "    }\n",
       "</style>\n",
       "<table border=\"1\" class=\"dataframe\">\n",
       "  <thead>\n",
       "    <tr style=\"text-align: right;\">\n",
       "      <th></th>\n",
       "      <th>NumeroTransacoesCartaoCredito</th>\n",
       "      <th>ValorTotalCartaoCredito</th>\n",
       "    </tr>\n",
       "  </thead>\n",
       "  <tbody>\n",
       "    <tr>\n",
       "      <th>0</th>\n",
       "      <td>108.889.702</td>\n",
       "      <td>45.240.604.924</td>\n",
       "    </tr>\n",
       "    <tr>\n",
       "      <th>1</th>\n",
       "      <td>159.982.883</td>\n",
       "      <td>1.788.391.587</td>\n",
       "    </tr>\n",
       "    <tr>\n",
       "      <th>2</th>\n",
       "      <td>147.875.334</td>\n",
       "      <td>31.727.844.565</td>\n",
       "    </tr>\n",
       "    <tr>\n",
       "      <th>3</th>\n",
       "      <td>185.810.790</td>\n",
       "      <td>4.251.524.739</td>\n",
       "    </tr>\n",
       "    <tr>\n",
       "      <th>4</th>\n",
       "      <td>163.784.772</td>\n",
       "      <td>47.633.090.269</td>\n",
       "    </tr>\n",
       "    <tr>\n",
       "      <th>...</th>\n",
       "      <td>...</td>\n",
       "      <td>...</td>\n",
       "    </tr>\n",
       "    <tr>\n",
       "      <th>96</th>\n",
       "      <td>3.397.440</td>\n",
       "      <td>33.851.014.378</td>\n",
       "    </tr>\n",
       "    <tr>\n",
       "      <th>97</th>\n",
       "      <td>49.746.934</td>\n",
       "      <td>9.915.718.105</td>\n",
       "    </tr>\n",
       "    <tr>\n",
       "      <th>98</th>\n",
       "      <td>65.116.093</td>\n",
       "      <td>28.893.747.635</td>\n",
       "    </tr>\n",
       "    <tr>\n",
       "      <th>99</th>\n",
       "      <td>57.891.527</td>\n",
       "      <td>33.328.529.868</td>\n",
       "    </tr>\n",
       "    <tr>\n",
       "      <th>100</th>\n",
       "      <td>122.173.989</td>\n",
       "      <td>28.114.206.377</td>\n",
       "    </tr>\n",
       "  </tbody>\n",
       "</table>\n",
       "<p>101 rows × 2 columns</p>\n",
       "</div>"
      ],
      "text/plain": [
       "    NumeroTransacoesCartaoCredito ValorTotalCartaoCredito\n",
       "0                     108.889.702          45.240.604.924\n",
       "1                     159.982.883           1.788.391.587\n",
       "2                     147.875.334          31.727.844.565\n",
       "3                     185.810.790           4.251.524.739\n",
       "4                     163.784.772          47.633.090.269\n",
       "..                            ...                     ...\n",
       "96                      3.397.440          33.851.014.378\n",
       "97                     49.746.934           9.915.718.105\n",
       "98                     65.116.093          28.893.747.635\n",
       "99                     57.891.527          33.328.529.868\n",
       "100                   122.173.989          28.114.206.377\n",
       "\n",
       "[101 rows x 2 columns]"
      ]
     },
     "metadata": {},
     "output_type": "display_data"
    }
   ],
   "source": [
    "df_cartao_credito[\"NumeroTransacoesCartaoCredito\"] = copy_cartao_credito[\"NumeroTransacoesCartaoCredito\"].apply(lambda x: f\"{x:,.0f}\".replace(\",\", \".\"))\n",
    "df_cartao_credito[\"ValorTotalCartaoCredito\"] = copy_cartao_credito[\"ValorTotalCartaoCredito\"].apply(lambda x: f\"{x:,.0f}\".replace(\",\", \".\"))\n",
    "\n",
    "display(df_cartao_credito)\n"
   ]
  },
  {
   "cell_type": "code",
   "execution_count": 5,
   "metadata": {},
   "outputs": [
    {
     "name": "stdout",
     "output_type": "stream",
     "text": [
      "<class 'pandas.core.frame.DataFrame'>\n",
      "RangeIndex: 101 entries, 0 to 100\n",
      "Data columns (total 2 columns):\n",
      " #   Column       Non-Null Count  Dtype  \n",
      "---  ------       --------------  -----  \n",
      " 0   transacoes   101 non-null    float64\n",
      " 1   valor_total  101 non-null    float64\n",
      "dtypes: float64(2)\n",
      "memory usage: 1.7 KB\n"
     ]
    }
   ],
   "source": [
    "df_cartao_credito.info()\n"
   ]
  },
  {
   "cell_type": "code",
   "execution_count": 6,
   "metadata": {},
   "outputs": [],
   "source": [
    "copy_cartao_credito.to_csv(\"dadosCartao2.csv\", index=False, encoding=\"utf-8\")"
   ]
  },
  {
   "cell_type": "code",
   "execution_count": null,
   "metadata": {},
   "outputs": [],
   "source": [
    "df = pd.read_csv(r\"C:\\Users\\uniao\\OneDrive\\Área de Trabalho\\Cursos 2024\\Soulcode\\Projeto_Metodo_Pagamento\\metodo_pagamento.csv\")\n",
    "\n",
    "display(df)"
   ]
  },
  {
   "cell_type": "code",
   "execution_count": null,
   "metadata": {},
   "outputs": [],
   "source": [
    "df_unificado = pd.merge(df_backup, df_cartao, left_index=True, right_index=True, how='inner')\n",
    "\n",
    "display(df_unificado)"
   ]
  },
  {
   "cell_type": "code",
   "execution_count": null,
   "metadata": {},
   "outputs": [],
   "source": [
    "df_unificado.info()"
   ]
  },
  {
   "cell_type": "code",
   "execution_count": null,
   "metadata": {},
   "outputs": [],
   "source": [
    "df_unificado.astype({'transacoes': float, 'valor_total': float})"
   ]
  },
  {
   "cell_type": "code",
   "execution_count": null,
   "metadata": {},
   "outputs": [],
   "source": [
    "cop_df_unificado = df_unificado.copy()  "
   ]
  },
  {
   "cell_type": "code",
   "execution_count": null,
   "metadata": {},
   "outputs": [],
   "source": [
    "cop_df_unificado['transacoes'] = df_unificado['transacoes'].apply(lambda x: f\"{x:.2f}\")\n",
    "cop_df_unificado['valor_total'] = df_unificado['valor_total'].apply(lambda x: f\"{x:.2f}\")"
   ]
  }
 ],
 "metadata": {
  "kernelspec": {
   "display_name": "Python 3",
   "language": "python",
   "name": "python3"
  },
  "language_info": {
   "codemirror_mode": {
    "name": "ipython",
    "version": 3
   },
   "file_extension": ".py",
   "mimetype": "text/x-python",
   "name": "python",
   "nbconvert_exporter": "python",
   "pygments_lexer": "ipython3",
   "version": "3.11.2"
  }
 },
 "nbformat": 4,
 "nbformat_minor": 2
}
